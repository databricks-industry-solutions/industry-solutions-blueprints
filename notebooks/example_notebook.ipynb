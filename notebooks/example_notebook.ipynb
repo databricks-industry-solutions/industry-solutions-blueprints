{
 "cells": [
  {
   "cell_type": "markdown",
   "id": "template-md-cell",
   "metadata": {},
   "source": "# Example Notebook\n\nThis is a template notebook. Replace this with your actual notebook content.\n\n## Features\n\n- Markdown cells render with proper formatting\n- Code cells get syntax highlighting\n- Images and tables are responsive\n- Everything renders in the single-page application"
  },
  {
   "cell_type": "code",
   "execution_count": null,
   "id": "template-code-cell",
   "metadata": {},
   "outputs": [],
   "source": "# This is example Python code\nimport pandas as pd\nimport numpy as np\n\n# Create sample data\ndf = pd.DataFrame({\n    'column1': np.random.randn(10),\n    'column2': np.random.randn(10)\n})\n\nprint(\"Sample DataFrame:\")\nprint(df.head())"
  }
 ],
 "metadata": {
  "kernelspec": {
   "display_name": "Python 3",
   "language": "python",
   "name": "python3"
  },
  "language_info": {
   "codemirror_mode": {
    "name": "ipython",
    "version": 3
   },
   "file_extension": ".py",
   "mimetype": "text/x-python",
   "name": "python",
   "nbconvert_exporter": "python",
   "pygments_lexer": "ipython3",
   "version": "3.11.0"
  }
 },
 "nbformat": 4,
 "nbformat_minor": 4
}